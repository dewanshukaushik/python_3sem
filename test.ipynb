{
 "cells": [
  {
   "cell_type": "code",
   "execution_count": 1,
   "metadata": {},
   "outputs": [
    {
     "name": "stdout",
     "output_type": "stream",
     "text": [
      "hello\n"
     ]
    }
   ],
   "source": [
    "print(\"hello\")"
   ]
  },
  {
   "cell_type": "code",
   "execution_count": 1,
   "metadata": {},
   "outputs": [
    {
     "name": "stdout",
     "output_type": "stream",
     "text": [
      "Defaulting to user installation because normal site-packages is not writeable\n",
      "Note: you may need to restart the kernel to use updated packages.\n"
     ]
    },
    {
     "name": "stderr",
     "output_type": "stream",
     "text": [
      "ERROR: Could not find a version that satisfies the requirement django (from versions: none)\n",
      "ERROR: No matching distribution found for django\n",
      "\n",
      "[notice] A new release of pip is available: 23.2.1 -> 23.3.1\n",
      "[notice] To update, run: python.exe -m pip install --upgrade pip\n"
     ]
    }
   ],
   "source": [
    "pip install django"
   ]
  },
  {
   "cell_type": "code",
   "execution_count": 3,
   "metadata": {},
   "outputs": [
    {
     "ename": "TypeError",
     "evalue": "'bool' object is not iterable",
     "output_type": "error",
     "traceback": [
      "\u001b[1;31m---------------------------------------------------------------------------\u001b[0m",
      "\u001b[1;31mTypeError\u001b[0m                                 Traceback (most recent call last)",
      "\u001b[1;32md:\\3 sem programmigs\\python\\test.ipynb Cell 2\u001b[0m line \u001b[0;36m3\n\u001b[0;32m      <a href='vscode-notebook-cell:/d%3A/3%20sem%20programmigs/python/test.ipynb#W1sZmlsZQ%3D%3D?line=0'>1</a>\u001b[0m fruits \u001b[39m=\u001b[39m [\u001b[39m\"\u001b[39m\u001b[39mapple\u001b[39m\u001b[39m\"\u001b[39m, \u001b[39m\"\u001b[39m\u001b[39mbanana\u001b[39m\u001b[39m\"\u001b[39m, \u001b[39m\"\u001b[39m\u001b[39mcherry\u001b[39m\u001b[39m\"\u001b[39m , \u001b[39m\"\u001b[39m\u001b[39mhello\u001b[39m\u001b[39m\"\u001b[39m]\n\u001b[1;32m----> <a href='vscode-notebook-cell:/d%3A/3%20sem%20programmigs/python/test.ipynb#W1sZmlsZQ%3D%3D?line=2'>3</a>\u001b[0m \u001b[39mfor\u001b[39;00m x \u001b[39min\u001b[39;00m \u001b[39mrange\u001b[39m(\u001b[39m3\u001b[39m) \u001b[39min\u001b[39;00m fruits:\n\u001b[0;32m      <a href='vscode-notebook-cell:/d%3A/3%20sem%20programmigs/python/test.ipynb#W1sZmlsZQ%3D%3D?line=3'>4</a>\u001b[0m   \u001b[39mprint\u001b[39m(x) \n",
      "\u001b[1;31mTypeError\u001b[0m: 'bool' object is not iterable"
     ]
    }
   ],
   "source": [
    "\n",
    "fruits = [\"apple\", \"banana\", \"cherry\" , \"hello\"]\n",
    "\n",
    "for x in range(3) in fruits:\n",
    "  print(x) \n"
   ]
  },
  {
   "cell_type": "code",
   "execution_count": 10,
   "metadata": {},
   "outputs": [
    {
     "name": "stdout",
     "output_type": "stream",
     "text": [
      "cherry\n",
      "cherry\n",
      "cherry\n",
      "cherry\n",
      "Finally finished!\n"
     ]
    }
   ],
   "source": [
    "fruits = [\"apple\", \"banana\", \"cherry\" , \"hello\"]\n",
    "for fruits in range(4):\n",
    "  print(x)\n",
    "else:\n",
    "  print(\"Finally finished!\")"
   ]
  },
  {
   "cell_type": "code",
   "execution_count": 12,
   "metadata": {},
   "outputs": [],
   "source": [
    "val = input(\"Enter your value: \")\n",
    "\n",
    "\t\n",
    "for i in range(0, val):\n",
    "\t\n",
    "\t\n",
    "\t\tfor j in range(0, i+1):\n",
    "\t\t\n",
    "\t\t\t\n",
    "\t\t\tprint(\"* \",end=\"\")\n",
    "\t\n",
    "\t\t\n",
    "\t\tprint(\"\\r\")"
   ]
  },
  {
   "cell_type": "code",
   "execution_count": 2,
   "metadata": {},
   "outputs": [
    {
     "name": "stdout",
     "output_type": "stream",
     "text": [
      "Enter the number of queens\n"
     ]
    },
    {
     "ename": "ValueError",
     "evalue": "invalid literal for int() with base 10: ''",
     "output_type": "error",
     "traceback": [
      "\u001b[1;31m---------------------------------------------------------------------------\u001b[0m",
      "\u001b[1;31mValueError\u001b[0m                                Traceback (most recent call last)",
      "\u001b[1;32md:\\3 sem programmigs\\python\\test.ipynb Cell 5\u001b[0m line \u001b[0;36m3\n\u001b[0;32m      <a href='vscode-notebook-cell:/d%3A/3%20sem%20programmigs/python/test.ipynb#W5sZmlsZQ%3D%3D?line=0'>1</a>\u001b[0m \u001b[39m# Taking number of queens as input from user\u001b[39;00m\n\u001b[0;32m      <a href='vscode-notebook-cell:/d%3A/3%20sem%20programmigs/python/test.ipynb#W5sZmlsZQ%3D%3D?line=1'>2</a>\u001b[0m \u001b[39mprint\u001b[39m (\u001b[39m\"\u001b[39m\u001b[39mEnter the number of queens\u001b[39m\u001b[39m\"\u001b[39m)\n\u001b[1;32m----> <a href='vscode-notebook-cell:/d%3A/3%20sem%20programmigs/python/test.ipynb#W5sZmlsZQ%3D%3D?line=2'>3</a>\u001b[0m N \u001b[39m=\u001b[39m \u001b[39mint\u001b[39;49m(\u001b[39minput\u001b[39;49m())\n\u001b[0;32m      <a href='vscode-notebook-cell:/d%3A/3%20sem%20programmigs/python/test.ipynb#W5sZmlsZQ%3D%3D?line=4'>5</a>\u001b[0m \u001b[39m# here we create a chessboard\u001b[39;00m\n\u001b[0;32m      <a href='vscode-notebook-cell:/d%3A/3%20sem%20programmigs/python/test.ipynb#W5sZmlsZQ%3D%3D?line=5'>6</a>\u001b[0m \u001b[39m# NxN matrix with all elements set to 0\u001b[39;00m\n\u001b[0;32m      <a href='vscode-notebook-cell:/d%3A/3%20sem%20programmigs/python/test.ipynb#W5sZmlsZQ%3D%3D?line=6'>7</a>\u001b[0m board \u001b[39m=\u001b[39m [[\u001b[39m0\u001b[39m]\u001b[39m*\u001b[39mN \u001b[39mfor\u001b[39;00m _ \u001b[39min\u001b[39;00m \u001b[39mrange\u001b[39m(N)]\n",
      "\u001b[1;31mValueError\u001b[0m: invalid literal for int() with base 10: ''"
     ]
    }
   ],
   "source": [
    "# Taking number of queens as input from user\n",
    "print (\"Enter the number of queens\")\n",
    "N = int(input())\n",
    "\n",
    "# here we create a chessboard\n",
    "# NxN matrix with all elements set to 0\n",
    "board = [[0]*N for _ in range(N)]\n",
    "\n",
    "def attack(i, j):\n",
    "    #checking vertically and horizontally\n",
    "    for k in range(0,N):\n",
    "        if board[i][k]==1 or board[k][j]==1:\n",
    "            return True\n",
    "    #checking diagonally\n",
    "    for k in range(0,N):\n",
    "        for l in range(0,N):\n",
    "            if (k+l==i+j) or (k-l==i-j):\n",
    "                if board[k][l]==1:\n",
    "                    return True\n",
    "    return False\n",
    "\n",
    "def N_queens(n):\n",
    "    if n==0:\n",
    "        return True\n",
    "    for i in range(0,N):\n",
    "        for j in range(0,N):\n",
    "            if (not(attack(i,j))) and (board[i][j]!=1):\n",
    "                board[i][j] = 1\n",
    "                if N_queens(n-1)==True:\n",
    "                    return True\n",
    "                board[i][j] = 0\n",
    "\n",
    "    return False\n",
    "\n",
    "N_queens(N)\n",
    "for i in board:\n",
    "    print (i)"
   ]
  },
  {
   "cell_type": "code",
   "execution_count": 3,
   "metadata": {},
   "outputs": [
    {
     "name": "stdout",
     "output_type": "stream",
     "text": [
      "A [0, 0] B [0, 3] C [4, 0] D [3, 0] E [4, 3] F [1, 3] G [3, 3] H [1, 0] I [4, 2] K [0, 1] J [0, 2] "
     ]
    }
   ],
   "source": [
    "graph = {\n",
    "    'A':['B','C'],\n",
    "    'B':['D','E'],\n",
    "    'C':['E','F'],\n",
    "    'D':['G','B'],\n",
    "    'E':['B','C'],\n",
    "    'F':['C','H'],\n",
    "    'G':['I'],\n",
    "    'H':['K'],\n",
    "    'I':['J'],\n",
    "    'J':[],\n",
    "    'K':['L'],\n",
    "    'L':['M'],\n",
    "    'M':['N'],\n",
    "    'N':[] \n",
    "}\n",
    "label={'A':[0,0],\n",
    "       'B':[0,3],\n",
    "       'C':[4,0],\n",
    "       'D':[3,0],\n",
    "       'E':[4,3],\n",
    "       'F':[1,3],\n",
    "       'G':[3,3],\n",
    "       'H':[1,0],\n",
    "       'I':[4,2],\n",
    "       'J':[0,2],\n",
    "       'K':[0,1],\n",
    "       'L':[4,1],\n",
    "       'M':[2,3],\n",
    "       'N':[2,0]\n",
    "       }\n",
    "visited=[]\n",
    "queue =[]\n",
    "goal=['J','N']\n",
    "def bfs(visited,graph,node):\n",
    "    visited.append(node)\n",
    "    queue.append(node)\n",
    "    while queue:\n",
    "        s=queue.pop(0)\n",
    "        print(s, end=\" \")\n",
    "        print(label[s],end=\" \")\n",
    "        if s in goal:\n",
    "            return \n",
    "        for neighbour in graph[s]:\n",
    "            if neighbour not in visited:\n",
    "                visited.append(neighbour)\n",
    "                queue.append(neighbour)\n",
    "\n",
    "bfs(visited,graph,'A')\n",
    "\n"
   ]
  },
  {
   "cell_type": "code",
   "execution_count": 1,
   "metadata": {},
   "outputs": [
    {
     "ename": "TypeError",
     "evalue": "'str' object cannot be interpreted as an integer",
     "output_type": "error",
     "traceback": [
      "\u001b[1;31m---------------------------------------------------------------------------\u001b[0m",
      "\u001b[1;31mTypeError\u001b[0m                                 Traceback (most recent call last)",
      "\u001b[1;32md:\\3 sem programmigs\\python\\test.ipynb Cell 5\u001b[0m line \u001b[0;36m2\n\u001b[0;32m      <a href='vscode-notebook-cell:/d%3A/3%20sem%20programmigs/python/test.ipynb#W4sZmlsZQ%3D%3D?line=0'>1</a>\u001b[0m n \u001b[39m=\u001b[39m \u001b[39minput\u001b[39m(\u001b[39m\"\u001b[39m\u001b[39menter the value\u001b[39m\u001b[39m\"\u001b[39m)\n\u001b[1;32m----> <a href='vscode-notebook-cell:/d%3A/3%20sem%20programmigs/python/test.ipynb#W4sZmlsZQ%3D%3D?line=1'>2</a>\u001b[0m \u001b[39mfor\u001b[39;00m i \u001b[39min\u001b[39;00m \u001b[39mrange\u001b[39;49m(\u001b[39m0\u001b[39;49m, n):\n\u001b[0;32m      <a href='vscode-notebook-cell:/d%3A/3%20sem%20programmigs/python/test.ipynb#W4sZmlsZQ%3D%3D?line=2'>3</a>\u001b[0m     \u001b[39mfor\u001b[39;00m j \u001b[39min\u001b[39;00m \u001b[39mrange\u001b[39m(\u001b[39m0\u001b[39m, i\u001b[39m+\u001b[39m\u001b[39m1\u001b[39m):\n\u001b[0;32m      <a href='vscode-notebook-cell:/d%3A/3%20sem%20programmigs/python/test.ipynb#W4sZmlsZQ%3D%3D?line=3'>4</a>\u001b[0m         \u001b[39mprint\u001b[39m(\u001b[39m\"\u001b[39m\u001b[39m*\u001b[39m\u001b[39m\"\u001b[39m, end\u001b[39m=\u001b[39m\u001b[39m\"\u001b[39m\u001b[39m \u001b[39m\u001b[39m\"\u001b[39m)\n",
      "\u001b[1;31mTypeError\u001b[0m: 'str' object cannot be interpreted as an integer"
     ]
    }
   ],
   "source": [
    "n = input(\"enter the value\")\n",
    "for i in range(0, n):\n",
    "    for j in range(0, i+1):\n",
    "        print(\"*\", end=\" \")\n",
    "    print()"
   ]
  },
  {
   "cell_type": "code",
   "execution_count": 6,
   "metadata": {},
   "outputs": [
    {
     "name": "stdout",
     "output_type": "stream",
     "text": [
      "Following is Depth First Traversal (starting from vertex 2)\n",
      "1 2 0 3 "
     ]
    }
   ],
   "source": [
    "# Python3 program to print DFS traversal\n",
    "# from a given graph\n",
    "from collections import defaultdict\n",
    "\n",
    "\n",
    "# This class represents a directed graph using\n",
    "# adjacency list representation\n",
    "class Graph:\n",
    "\n",
    "\t# Constructor\n",
    "\tdef __init__(self):\n",
    "\n",
    "\t\t# Default dictionary to store graph\n",
    "\t\tself.graph = defaultdict(list)\n",
    "\n",
    "\t\n",
    "\t# Function to add an edge to graph\n",
    "\tdef addEdge(self, u, v):\n",
    "\t\tself.graph[u].append(v)\n",
    "\n",
    "\t\n",
    "\t# A function used by DFS\n",
    "\tdef DFSUtil(self, v, visited):\n",
    "\n",
    "\t\t# Mark the current node as visited\n",
    "\t\t# and print it\n",
    "\t\tvisited.add(v)\n",
    "\t\tprint(v, end=' ')\n",
    "\n",
    "\t\t# Recur for all the vertices\n",
    "\t\t# adjacent to this vertex\n",
    "\t\tfor neighbour in self.graph[v]:\n",
    "\t\t\tif neighbour not in visited:\n",
    "\t\t\t\tself.DFSUtil(neighbour, visited)\n",
    "\n",
    "\t\n",
    "\t# The function to do DFS traversal. It uses\n",
    "\t# recursive DFSUtil()\n",
    "\tdef DFS(self, v):\n",
    "\n",
    "\t\t# Create a set to store visited vertices\n",
    "\t\tvisited = set()\n",
    "\n",
    "\t\t# Call the recursive helper function\n",
    "\t\t# to print DFS traversal\n",
    "\t\tself.DFSUtil(v, visited)\n",
    "\n",
    "\n",
    "# Driver's code\n",
    "if __name__ == \"__main__\":\n",
    "\tg = Graph()\n",
    "\tg.addEdge(0, 1)\n",
    "\tg.addEdge(0, 2)\n",
    "\tg.addEdge(1, 2)\n",
    "\tg.addEdge(2, 0)\n",
    "\tg.addEdge(2, 3)\n",
    "\tg.addEdge(3, 3)\n",
    "\n",
    "\tprint(\"Following is Depth First Traversal (starting from vertex 2)\")\n",
    "\t\n",
    "\t# Function call\n",
    "\tg.DFS(1)\n",
    "\n",
    "# This code is contributed by Neelam Yadav\n"
   ]
  }
 ],
 "metadata": {
  "kernelspec": {
   "display_name": "Python 3",
   "language": "python",
   "name": "python3"
  },
  "language_info": {
   "codemirror_mode": {
    "name": "ipython",
    "version": 3
   },
   "file_extension": ".py",
   "mimetype": "text/x-python",
   "name": "python",
   "nbconvert_exporter": "python",
   "pygments_lexer": "ipython3",
   "version": "3.11.5"
  },
  "orig_nbformat": 4
 },
 "nbformat": 4,
 "nbformat_minor": 2
}
